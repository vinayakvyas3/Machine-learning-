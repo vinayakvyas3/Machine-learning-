{
  "nbformat": 4,
  "nbformat_minor": 0,
  "metadata": {
    "colab": {
      "provenance": [],
      "include_colab_link": true
    },
    "kernelspec": {
      "name": "python3",
      "display_name": "Python 3"
    },
    "language_info": {
      "name": "python"
    }
  },
  "cells": [
    {
      "cell_type": "markdown",
      "metadata": {
        "id": "view-in-github",
        "colab_type": "text"
      },
      "source": [
        "<a href=\"https://colab.research.google.com/github/vinayakvyas3/Machine-learning-/blob/main/ANN.ipynb\" target=\"_parent\"><img src=\"https://colab.research.google.com/assets/colab-badge.svg\" alt=\"Open In Colab\"/></a>"
      ]
    },
    {
      "cell_type": "markdown",
      "source": [
        "Loading the MNIST dataset in Keras"
      ],
      "metadata": {
        "id": "4NS6CJbDiCob"
      }
    },
    {
      "cell_type": "code",
      "source": [
        "from keras.datasets import mnist\n",
        "(train_images, train_labels), (test_images, test_labels) = mnist.load_data()\n"
      ],
      "metadata": {
        "id": "S-tVYhz9oJjn"
      },
      "execution_count": 14,
      "outputs": []
    },
    {
      "cell_type": "code",
      "source": [
        "train_images.shape\n",
        "len(train_labels)\n",
        "train_labels\n",
        "test_images.shape\n",
        "len(test_labels)\n",
        "test_labels\n"
      ],
      "metadata": {
        "id": "W5lXpBuzoTwx",
        "outputId": "b5d08c7b-397c-4fc1-e98c-9272ebcc71c4",
        "colab": {
          "base_uri": "https://localhost:8080/"
        }
      },
      "execution_count": 15,
      "outputs": [
        {
          "output_type": "execute_result",
          "data": {
            "text/plain": [
              "array([7, 2, 1, ..., 4, 5, 6], dtype=uint8)"
            ]
          },
          "metadata": {},
          "execution_count": 15
        }
      ]
    },
    {
      "cell_type": "markdown",
      "source": [
        "The network architecture"
      ],
      "metadata": {
        "id": "lY9QnJc8oW98"
      }
    },
    {
      "cell_type": "code",
      "source": [
        "from keras import models\n",
        "from keras import layers\n",
        "network = models.Sequential()\n",
        "# Dense(32) is a fully-connected layer with 32 hidden units.\n",
        "# in the first layer, you must specify the expected input data shape :\n",
        "# here, 28 X 28=784 -dimensional vectors.\n",
        "network.add(layers.Dense(32, activation='sigmoid', input_shape=(28 * 28, )))\n",
        "network.add(layers.Dense(8, activation='sigmoid'))\n",
        "network.add(layers.Dense(10, activation='softmax'))\n",
        "network.summary()\n",
        "from google.colab import drive\n",
        "drive.mount('/content/drive')\n"
      ],
      "metadata": {
        "colab": {
          "base_uri": "https://localhost:8080/"
        },
        "id": "bDQ0ElvPoZH6",
        "outputId": "25390ca9-e770-4cf5-fe58-b3ca3268edfa"
      },
      "execution_count": 16,
      "outputs": [
        {
          "output_type": "stream",
          "name": "stdout",
          "text": [
            "Model: \"sequential_3\"\n",
            "_________________________________________________________________\n",
            " Layer (type)                Output Shape              Param #   \n",
            "=================================================================\n",
            " dense_9 (Dense)             (None, 32)                25120     \n",
            "                                                                 \n",
            " dense_10 (Dense)            (None, 8)                 264       \n",
            "                                                                 \n",
            " dense_11 (Dense)            (None, 10)                90        \n",
            "                                                                 \n",
            "=================================================================\n",
            "Total params: 25474 (99.51 KB)\n",
            "Trainable params: 25474 (99.51 KB)\n",
            "Non-trainable params: 0 (0.00 Byte)\n",
            "_________________________________________________________________\n",
            "Drive already mounted at /content/drive; to attempt to forcibly remount, call drive.mount(\"/content/drive\", force_remount=True).\n"
          ]
        }
      ]
    },
    {
      "cell_type": "markdown",
      "source": [
        "The compilation step"
      ],
      "metadata": {
        "id": "U7I7xhQjoeWH"
      }
    },
    {
      "cell_type": "code",
      "source": [
        "network.compile(optimizer='sgd',\n",
        "                loss='categorical_crossentropy',\n",
        "                metrics=['accuracy'])"
      ],
      "metadata": {
        "id": "_AkirVt0oe6B"
      },
      "execution_count": 17,
      "outputs": []
    },
    {
      "cell_type": "markdown",
      "source": [
        "Preparing the image data"
      ],
      "metadata": {
        "id": "Frz-vGxWogvz"
      }
    },
    {
      "cell_type": "code",
      "source": [
        "train_images = train_images.reshape((60000, 28 * 28))\n",
        "train_images = train_images.astype('float32') / 255.\n",
        "test_images = test_images.reshape((10000, 28 * 28))\n",
        "test_images = test_images.astype('float32') / 255."
      ],
      "metadata": {
        "id": "0LwIHz42oi7A"
      },
      "execution_count": 18,
      "outputs": []
    },
    {
      "cell_type": "markdown",
      "source": [
        "Preparing the labels"
      ],
      "metadata": {
        "id": "xa8dldHFonMc"
      }
    },
    {
      "cell_type": "code",
      "source": [
        "from keras.utils import to_categorical\n",
        "train_labels = to_categorical(train_labels)\n",
        "train_labels\n",
        "test_labels = to_categorical(test_labels)\n",
        "test_labels\n"
      ],
      "metadata": {
        "colab": {
          "base_uri": "https://localhost:8080/"
        },
        "id": "C7cSamqnoprH",
        "outputId": "ba34a850-6880-4028-d93d-addd1b2d44a6"
      },
      "execution_count": 19,
      "outputs": [
        {
          "output_type": "execute_result",
          "data": {
            "text/plain": [
              "array([[0., 0., 0., ..., 1., 0., 0.],\n",
              "       [0., 0., 1., ..., 0., 0., 0.],\n",
              "       [0., 1., 0., ..., 0., 0., 0.],\n",
              "       ...,\n",
              "       [0., 0., 0., ..., 0., 0., 0.],\n",
              "       [0., 0., 0., ..., 0., 0., 0.],\n",
              "       [0., 0., 0., ..., 0., 0., 0.]], dtype=float32)"
            ]
          },
          "metadata": {},
          "execution_count": 19
        }
      ]
    },
    {
      "cell_type": "markdown",
      "source": [
        "Training and Testing"
      ],
      "metadata": {
        "id": "MdyP_vQyossQ"
      }
    },
    {
      "cell_type": "code",
      "source": [
        "network.fit(train_images, train_labels, epochs=160, batch_size=512)"
      ],
      "metadata": {
        "colab": {
          "base_uri": "https://localhost:8080/"
        },
        "id": "xyUWJqXrouuJ",
        "outputId": "37ba11af-469c-46b4-a5ed-cba95330d9e6"
      },
      "execution_count": 20,
      "outputs": [
        {
          "output_type": "stream",
          "name": "stdout",
          "text": [
            "Epoch 1/160\n",
            "118/118 [==============================] - 1s 6ms/step - loss: 2.3813 - accuracy: 0.1130\n",
            "Epoch 2/160\n",
            "118/118 [==============================] - 1s 6ms/step - loss: 2.3257 - accuracy: 0.1173\n",
            "Epoch 3/160\n",
            "118/118 [==============================] - 1s 6ms/step - loss: 2.3010 - accuracy: 0.1204\n",
            "Epoch 4/160\n",
            "118/118 [==============================] - 1s 6ms/step - loss: 2.2879 - accuracy: 0.1302\n",
            "Epoch 5/160\n",
            "118/118 [==============================] - 1s 6ms/step - loss: 2.2794 - accuracy: 0.1372\n",
            "Epoch 6/160\n",
            "118/118 [==============================] - 1s 6ms/step - loss: 2.2727 - accuracy: 0.1509\n",
            "Epoch 7/160\n",
            "118/118 [==============================] - 1s 6ms/step - loss: 2.2666 - accuracy: 0.1591\n",
            "Epoch 8/160\n",
            "118/118 [==============================] - 1s 8ms/step - loss: 2.2607 - accuracy: 0.1674\n",
            "Epoch 9/160\n",
            "118/118 [==============================] - 1s 9ms/step - loss: 2.2546 - accuracy: 0.1778\n",
            "Epoch 10/160\n",
            "118/118 [==============================] - 1s 9ms/step - loss: 2.2481 - accuracy: 0.1880\n",
            "Epoch 11/160\n",
            "118/118 [==============================] - 1s 9ms/step - loss: 2.2413 - accuracy: 0.2021\n",
            "Epoch 12/160\n",
            "118/118 [==============================] - 1s 8ms/step - loss: 2.2340 - accuracy: 0.2235\n",
            "Epoch 13/160\n",
            "118/118 [==============================] - 1s 6ms/step - loss: 2.2262 - accuracy: 0.2370\n",
            "Epoch 14/160\n",
            "118/118 [==============================] - 1s 6ms/step - loss: 2.2178 - accuracy: 0.2502\n",
            "Epoch 15/160\n",
            "118/118 [==============================] - 1s 6ms/step - loss: 2.2088 - accuracy: 0.2663\n",
            "Epoch 16/160\n",
            "118/118 [==============================] - 1s 6ms/step - loss: 2.1991 - accuracy: 0.2810\n",
            "Epoch 17/160\n",
            "118/118 [==============================] - 1s 6ms/step - loss: 2.1887 - accuracy: 0.2881\n",
            "Epoch 18/160\n",
            "118/118 [==============================] - 1s 6ms/step - loss: 2.1776 - accuracy: 0.2974\n",
            "Epoch 19/160\n",
            "118/118 [==============================] - 1s 6ms/step - loss: 2.1658 - accuracy: 0.3078\n",
            "Epoch 20/160\n",
            "118/118 [==============================] - 1s 6ms/step - loss: 2.1532 - accuracy: 0.3165\n",
            "Epoch 21/160\n",
            "118/118 [==============================] - 1s 6ms/step - loss: 2.1400 - accuracy: 0.3237\n",
            "Epoch 22/160\n",
            "118/118 [==============================] - 1s 6ms/step - loss: 2.1260 - accuracy: 0.3354\n",
            "Epoch 23/160\n",
            "118/118 [==============================] - 1s 6ms/step - loss: 2.1114 - accuracy: 0.3385\n",
            "Epoch 24/160\n",
            "118/118 [==============================] - 1s 6ms/step - loss: 2.0963 - accuracy: 0.3485\n",
            "Epoch 25/160\n",
            "118/118 [==============================] - 1s 6ms/step - loss: 2.0805 - accuracy: 0.3532\n",
            "Epoch 26/160\n",
            "118/118 [==============================] - 1s 7ms/step - loss: 2.0644 - accuracy: 0.3627\n",
            "Epoch 27/160\n",
            "118/118 [==============================] - 1s 9ms/step - loss: 2.0478 - accuracy: 0.3667\n",
            "Epoch 28/160\n",
            "118/118 [==============================] - 1s 9ms/step - loss: 2.0309 - accuracy: 0.3760\n",
            "Epoch 29/160\n",
            "118/118 [==============================] - 1s 9ms/step - loss: 2.0138 - accuracy: 0.3790\n",
            "Epoch 30/160\n",
            "118/118 [==============================] - 1s 9ms/step - loss: 1.9965 - accuracy: 0.3913\n",
            "Epoch 31/160\n",
            "118/118 [==============================] - 1s 6ms/step - loss: 1.9790 - accuracy: 0.4006\n",
            "Epoch 32/160\n",
            "118/118 [==============================] - 1s 6ms/step - loss: 1.9615 - accuracy: 0.4062\n",
            "Epoch 33/160\n",
            "118/118 [==============================] - 1s 6ms/step - loss: 1.9439 - accuracy: 0.4187\n",
            "Epoch 34/160\n",
            "118/118 [==============================] - 1s 6ms/step - loss: 1.9262 - accuracy: 0.4275\n",
            "Epoch 35/160\n",
            "118/118 [==============================] - 1s 6ms/step - loss: 1.9086 - accuracy: 0.4367\n",
            "Epoch 36/160\n",
            "118/118 [==============================] - 1s 6ms/step - loss: 1.8909 - accuracy: 0.4465\n",
            "Epoch 37/160\n",
            "118/118 [==============================] - 1s 6ms/step - loss: 1.8732 - accuracy: 0.4586\n",
            "Epoch 38/160\n",
            "118/118 [==============================] - 1s 6ms/step - loss: 1.8554 - accuracy: 0.4691\n",
            "Epoch 39/160\n",
            "118/118 [==============================] - 1s 6ms/step - loss: 1.8376 - accuracy: 0.4803\n",
            "Epoch 40/160\n",
            "118/118 [==============================] - 1s 6ms/step - loss: 1.8198 - accuracy: 0.4940\n",
            "Epoch 41/160\n",
            "118/118 [==============================] - 1s 6ms/step - loss: 1.8019 - accuracy: 0.4991\n",
            "Epoch 42/160\n",
            "118/118 [==============================] - 1s 6ms/step - loss: 1.7838 - accuracy: 0.5133\n",
            "Epoch 43/160\n",
            "118/118 [==============================] - 1s 6ms/step - loss: 1.7657 - accuracy: 0.5237\n",
            "Epoch 44/160\n",
            "118/118 [==============================] - 1s 8ms/step - loss: 1.7474 - accuracy: 0.5347\n",
            "Epoch 45/160\n",
            "118/118 [==============================] - 1s 9ms/step - loss: 1.7290 - accuracy: 0.5447\n",
            "Epoch 46/160\n",
            "118/118 [==============================] - 1s 9ms/step - loss: 1.7104 - accuracy: 0.5537\n",
            "Epoch 47/160\n",
            "118/118 [==============================] - 1s 9ms/step - loss: 1.6918 - accuracy: 0.5629\n",
            "Epoch 48/160\n",
            "118/118 [==============================] - 1s 10ms/step - loss: 1.6730 - accuracy: 0.5701\n",
            "Epoch 49/160\n",
            "118/118 [==============================] - 1s 6ms/step - loss: 1.6540 - accuracy: 0.5812\n",
            "Epoch 50/160\n",
            "118/118 [==============================] - 1s 6ms/step - loss: 1.6350 - accuracy: 0.5872\n",
            "Epoch 51/160\n",
            "118/118 [==============================] - 1s 6ms/step - loss: 1.6159 - accuracy: 0.5937\n",
            "Epoch 52/160\n",
            "118/118 [==============================] - 1s 6ms/step - loss: 1.5967 - accuracy: 0.6005\n",
            "Epoch 53/160\n",
            "118/118 [==============================] - 1s 6ms/step - loss: 1.5775 - accuracy: 0.6061\n",
            "Epoch 54/160\n",
            "118/118 [==============================] - 1s 6ms/step - loss: 1.5584 - accuracy: 0.6121\n",
            "Epoch 55/160\n",
            "118/118 [==============================] - 1s 6ms/step - loss: 1.5393 - accuracy: 0.6173\n",
            "Epoch 56/160\n",
            "118/118 [==============================] - 1s 6ms/step - loss: 1.5203 - accuracy: 0.6211\n",
            "Epoch 57/160\n",
            "118/118 [==============================] - 1s 6ms/step - loss: 1.5014 - accuracy: 0.6264\n",
            "Epoch 58/160\n",
            "118/118 [==============================] - 1s 6ms/step - loss: 1.4827 - accuracy: 0.6313\n",
            "Epoch 59/160\n",
            "118/118 [==============================] - 1s 6ms/step - loss: 1.4642 - accuracy: 0.6355\n",
            "Epoch 60/160\n",
            "118/118 [==============================] - 1s 6ms/step - loss: 1.4460 - accuracy: 0.6397\n",
            "Epoch 61/160\n",
            "118/118 [==============================] - 1s 6ms/step - loss: 1.4280 - accuracy: 0.6448\n",
            "Epoch 62/160\n",
            "118/118 [==============================] - 1s 7ms/step - loss: 1.4103 - accuracy: 0.6491\n",
            "Epoch 63/160\n",
            "118/118 [==============================] - 1s 9ms/step - loss: 1.3930 - accuracy: 0.6529\n",
            "Epoch 64/160\n",
            "118/118 [==============================] - 1s 9ms/step - loss: 1.3760 - accuracy: 0.6571\n",
            "Epoch 65/160\n",
            "118/118 [==============================] - 1s 9ms/step - loss: 1.3593 - accuracy: 0.6607\n",
            "Epoch 66/160\n",
            "118/118 [==============================] - 1s 9ms/step - loss: 1.3430 - accuracy: 0.6645\n",
            "Epoch 67/160\n",
            "118/118 [==============================] - 1s 8ms/step - loss: 1.3271 - accuracy: 0.6679\n",
            "Epoch 68/160\n",
            "118/118 [==============================] - 1s 6ms/step - loss: 1.3115 - accuracy: 0.6719\n",
            "Epoch 69/160\n",
            "118/118 [==============================] - 1s 6ms/step - loss: 1.2963 - accuracy: 0.6750\n",
            "Epoch 70/160\n",
            "118/118 [==============================] - 1s 6ms/step - loss: 1.2815 - accuracy: 0.6782\n",
            "Epoch 71/160\n",
            "118/118 [==============================] - 1s 6ms/step - loss: 1.2670 - accuracy: 0.6820\n",
            "Epoch 72/160\n",
            "118/118 [==============================] - 1s 6ms/step - loss: 1.2529 - accuracy: 0.6848\n",
            "Epoch 73/160\n",
            "118/118 [==============================] - 1s 6ms/step - loss: 1.2392 - accuracy: 0.6880\n",
            "Epoch 74/160\n",
            "118/118 [==============================] - 1s 6ms/step - loss: 1.2258 - accuracy: 0.6911\n",
            "Epoch 75/160\n",
            "118/118 [==============================] - 1s 6ms/step - loss: 1.2128 - accuracy: 0.6942\n",
            "Epoch 76/160\n",
            "118/118 [==============================] - 1s 6ms/step - loss: 1.2001 - accuracy: 0.6981\n",
            "Epoch 77/160\n",
            "118/118 [==============================] - 1s 6ms/step - loss: 1.1877 - accuracy: 0.7016\n",
            "Epoch 78/160\n",
            "118/118 [==============================] - 1s 6ms/step - loss: 1.1756 - accuracy: 0.7040\n",
            "Epoch 79/160\n",
            "118/118 [==============================] - 1s 6ms/step - loss: 1.1639 - accuracy: 0.7066\n",
            "Epoch 80/160\n",
            "118/118 [==============================] - 1s 6ms/step - loss: 1.1524 - accuracy: 0.7095\n",
            "Epoch 81/160\n",
            "118/118 [==============================] - 1s 8ms/step - loss: 1.1412 - accuracy: 0.7125\n",
            "Epoch 82/160\n",
            "118/118 [==============================] - 1s 9ms/step - loss: 1.1303 - accuracy: 0.7152\n",
            "Epoch 83/160\n",
            "118/118 [==============================] - 1s 9ms/step - loss: 1.1196 - accuracy: 0.7172\n",
            "Epoch 84/160\n",
            "118/118 [==============================] - 1s 9ms/step - loss: 1.1092 - accuracy: 0.7200\n",
            "Epoch 85/160\n",
            "118/118 [==============================] - 1s 8ms/step - loss: 1.0991 - accuracy: 0.7219\n",
            "Epoch 86/160\n",
            "118/118 [==============================] - 1s 6ms/step - loss: 1.0892 - accuracy: 0.7242\n",
            "Epoch 87/160\n",
            "118/118 [==============================] - 1s 6ms/step - loss: 1.0795 - accuracy: 0.7262\n",
            "Epoch 88/160\n",
            "118/118 [==============================] - 1s 6ms/step - loss: 1.0700 - accuracy: 0.7280\n",
            "Epoch 89/160\n",
            "118/118 [==============================] - 1s 6ms/step - loss: 1.0607 - accuracy: 0.7312\n",
            "Epoch 90/160\n",
            "118/118 [==============================] - 1s 6ms/step - loss: 1.0517 - accuracy: 0.7337\n",
            "Epoch 91/160\n",
            "118/118 [==============================] - 1s 6ms/step - loss: 1.0428 - accuracy: 0.7365\n",
            "Epoch 92/160\n",
            "118/118 [==============================] - 1s 6ms/step - loss: 1.0341 - accuracy: 0.7388\n",
            "Epoch 93/160\n",
            "118/118 [==============================] - 1s 6ms/step - loss: 1.0256 - accuracy: 0.7412\n",
            "Epoch 94/160\n",
            "118/118 [==============================] - 1s 6ms/step - loss: 1.0173 - accuracy: 0.7434\n",
            "Epoch 95/160\n",
            "118/118 [==============================] - 1s 6ms/step - loss: 1.0092 - accuracy: 0.7462\n",
            "Epoch 96/160\n",
            "118/118 [==============================] - 1s 6ms/step - loss: 1.0012 - accuracy: 0.7477\n",
            "Epoch 97/160\n",
            "118/118 [==============================] - 1s 6ms/step - loss: 0.9933 - accuracy: 0.7501\n",
            "Epoch 98/160\n",
            "118/118 [==============================] - 1s 6ms/step - loss: 0.9857 - accuracy: 0.7528\n",
            "Epoch 99/160\n",
            "118/118 [==============================] - 1s 7ms/step - loss: 0.9781 - accuracy: 0.7545\n",
            "Epoch 100/160\n",
            "118/118 [==============================] - 1s 8ms/step - loss: 0.9707 - accuracy: 0.7567\n",
            "Epoch 101/160\n",
            "118/118 [==============================] - 1s 8ms/step - loss: 0.9635 - accuracy: 0.7584\n",
            "Epoch 102/160\n",
            "118/118 [==============================] - 1s 9ms/step - loss: 0.9563 - accuracy: 0.7603\n",
            "Epoch 103/160\n",
            "118/118 [==============================] - 1s 10ms/step - loss: 0.9493 - accuracy: 0.7625\n",
            "Epoch 104/160\n",
            "118/118 [==============================] - 1s 7ms/step - loss: 0.9424 - accuracy: 0.7647\n",
            "Epoch 105/160\n",
            "118/118 [==============================] - 1s 6ms/step - loss: 0.9356 - accuracy: 0.7669\n",
            "Epoch 106/160\n",
            "118/118 [==============================] - 1s 6ms/step - loss: 0.9290 - accuracy: 0.7689\n",
            "Epoch 107/160\n",
            "118/118 [==============================] - 1s 6ms/step - loss: 0.9224 - accuracy: 0.7704\n",
            "Epoch 108/160\n",
            "118/118 [==============================] - 1s 6ms/step - loss: 0.9159 - accuracy: 0.7725\n",
            "Epoch 109/160\n",
            "118/118 [==============================] - 1s 6ms/step - loss: 0.9096 - accuracy: 0.7745\n",
            "Epoch 110/160\n",
            "118/118 [==============================] - 1s 6ms/step - loss: 0.9033 - accuracy: 0.7766\n",
            "Epoch 111/160\n",
            "118/118 [==============================] - 1s 6ms/step - loss: 0.8971 - accuracy: 0.7782\n",
            "Epoch 112/160\n",
            "118/118 [==============================] - 1s 6ms/step - loss: 0.8911 - accuracy: 0.7797\n",
            "Epoch 113/160\n",
            "118/118 [==============================] - 1s 6ms/step - loss: 0.8851 - accuracy: 0.7814\n",
            "Epoch 114/160\n",
            "118/118 [==============================] - 1s 6ms/step - loss: 0.8791 - accuracy: 0.7830\n",
            "Epoch 115/160\n",
            "118/118 [==============================] - 1s 6ms/step - loss: 0.8733 - accuracy: 0.7848\n",
            "Epoch 116/160\n",
            "118/118 [==============================] - 1s 6ms/step - loss: 0.8675 - accuracy: 0.7866\n",
            "Epoch 117/160\n",
            "118/118 [==============================] - 1s 6ms/step - loss: 0.8619 - accuracy: 0.7884\n",
            "Epoch 118/160\n",
            "118/118 [==============================] - 1s 8ms/step - loss: 0.8562 - accuracy: 0.7900\n",
            "Epoch 119/160\n",
            "118/118 [==============================] - 1s 9ms/step - loss: 0.8507 - accuracy: 0.7914\n",
            "Epoch 120/160\n",
            "118/118 [==============================] - 1s 9ms/step - loss: 0.8452 - accuracy: 0.7936\n",
            "Epoch 121/160\n",
            "118/118 [==============================] - 1s 9ms/step - loss: 0.8398 - accuracy: 0.7954\n",
            "Epoch 122/160\n",
            "118/118 [==============================] - 1s 9ms/step - loss: 0.8345 - accuracy: 0.7965\n",
            "Epoch 123/160\n",
            "118/118 [==============================] - 1s 6ms/step - loss: 0.8292 - accuracy: 0.7985\n",
            "Epoch 124/160\n",
            "118/118 [==============================] - 1s 6ms/step - loss: 0.8239 - accuracy: 0.8000\n",
            "Epoch 125/160\n",
            "118/118 [==============================] - 1s 6ms/step - loss: 0.8188 - accuracy: 0.8012\n",
            "Epoch 126/160\n",
            "118/118 [==============================] - 1s 6ms/step - loss: 0.8137 - accuracy: 0.8027\n",
            "Epoch 127/160\n",
            "118/118 [==============================] - 1s 6ms/step - loss: 0.8086 - accuracy: 0.8041\n",
            "Epoch 128/160\n",
            "118/118 [==============================] - 1s 6ms/step - loss: 0.8036 - accuracy: 0.8053\n",
            "Epoch 129/160\n",
            "118/118 [==============================] - 1s 6ms/step - loss: 0.7986 - accuracy: 0.8072\n",
            "Epoch 130/160\n",
            "118/118 [==============================] - 1s 6ms/step - loss: 0.7937 - accuracy: 0.8089\n",
            "Epoch 131/160\n",
            "118/118 [==============================] - 1s 6ms/step - loss: 0.7889 - accuracy: 0.8098\n",
            "Epoch 132/160\n",
            "118/118 [==============================] - 1s 6ms/step - loss: 0.7840 - accuracy: 0.8115\n",
            "Epoch 133/160\n",
            "118/118 [==============================] - 1s 6ms/step - loss: 0.7793 - accuracy: 0.8130\n",
            "Epoch 134/160\n",
            "118/118 [==============================] - 1s 6ms/step - loss: 0.7745 - accuracy: 0.8140\n",
            "Epoch 135/160\n",
            "118/118 [==============================] - 1s 6ms/step - loss: 0.7699 - accuracy: 0.8150\n",
            "Epoch 136/160\n",
            "118/118 [==============================] - 1s 6ms/step - loss: 0.7652 - accuracy: 0.8163\n",
            "Epoch 137/160\n",
            "118/118 [==============================] - 1s 8ms/step - loss: 0.7606 - accuracy: 0.8179\n",
            "Epoch 138/160\n",
            "118/118 [==============================] - 1s 9ms/step - loss: 0.7561 - accuracy: 0.8190\n",
            "Epoch 139/160\n",
            "118/118 [==============================] - 1s 9ms/step - loss: 0.7516 - accuracy: 0.8201\n",
            "Epoch 140/160\n",
            "118/118 [==============================] - 1s 9ms/step - loss: 0.7471 - accuracy: 0.8216\n",
            "Epoch 141/160\n",
            "118/118 [==============================] - 1s 9ms/step - loss: 0.7427 - accuracy: 0.8225\n",
            "Epoch 142/160\n",
            "118/118 [==============================] - 1s 6ms/step - loss: 0.7383 - accuracy: 0.8239\n",
            "Epoch 143/160\n",
            "118/118 [==============================] - 1s 6ms/step - loss: 0.7339 - accuracy: 0.8255\n",
            "Epoch 144/160\n",
            "118/118 [==============================] - 1s 6ms/step - loss: 0.7296 - accuracy: 0.8266\n",
            "Epoch 145/160\n",
            "118/118 [==============================] - 1s 6ms/step - loss: 0.7253 - accuracy: 0.8279\n",
            "Epoch 146/160\n",
            "118/118 [==============================] - 1s 6ms/step - loss: 0.7211 - accuracy: 0.8286\n",
            "Epoch 147/160\n",
            "118/118 [==============================] - 1s 6ms/step - loss: 0.7169 - accuracy: 0.8298\n",
            "Epoch 148/160\n",
            "118/118 [==============================] - 1s 6ms/step - loss: 0.7127 - accuracy: 0.8308\n",
            "Epoch 149/160\n",
            "118/118 [==============================] - 1s 6ms/step - loss: 0.7086 - accuracy: 0.8320\n",
            "Epoch 150/160\n",
            "118/118 [==============================] - 1s 6ms/step - loss: 0.7045 - accuracy: 0.8332\n",
            "Epoch 151/160\n",
            "118/118 [==============================] - 1s 6ms/step - loss: 0.7005 - accuracy: 0.8345\n",
            "Epoch 152/160\n",
            "118/118 [==============================] - 1s 6ms/step - loss: 0.6964 - accuracy: 0.8355\n",
            "Epoch 153/160\n",
            "118/118 [==============================] - 1s 6ms/step - loss: 0.6925 - accuracy: 0.8362\n",
            "Epoch 154/160\n",
            "118/118 [==============================] - 1s 6ms/step - loss: 0.6885 - accuracy: 0.8372\n",
            "Epoch 155/160\n",
            "118/118 [==============================] - 1s 6ms/step - loss: 0.6846 - accuracy: 0.8380\n",
            "Epoch 156/160\n",
            "118/118 [==============================] - 1s 9ms/step - loss: 0.6808 - accuracy: 0.8386\n",
            "Epoch 157/160\n",
            "118/118 [==============================] - 1s 9ms/step - loss: 0.6769 - accuracy: 0.8397\n",
            "Epoch 158/160\n",
            "118/118 [==============================] - 1s 9ms/step - loss: 0.6731 - accuracy: 0.8408\n",
            "Epoch 159/160\n",
            "118/118 [==============================] - 1s 10ms/step - loss: 0.6694 - accuracy: 0.8418\n",
            "Epoch 160/160\n",
            "118/118 [==============================] - 1s 8ms/step - loss: 0.6657 - accuracy: 0.8427\n"
          ]
        },
        {
          "output_type": "execute_result",
          "data": {
            "text/plain": [
              "<keras.src.callbacks.History at 0x7d00947af700>"
            ]
          },
          "metadata": {},
          "execution_count": 20
        }
      ]
    },
    {
      "cell_type": "code",
      "source": [
        "test_loss, test_acc = network.evaluate(test_images, test_labels)\n",
        "print('Test Accuracy: {:.5f} '.format(test_acc))\n",
        "test_acc"
      ],
      "metadata": {
        "colab": {
          "base_uri": "https://localhost:8080/"
        },
        "id": "lxgwEbxmozey",
        "outputId": "9fbd9139-4117-4c82-b7e2-97b88c8ea427"
      },
      "execution_count": 21,
      "outputs": [
        {
          "output_type": "stream",
          "name": "stdout",
          "text": [
            "313/313 [==============================] - 1s 2ms/step - loss: 0.6567 - accuracy: 0.8496\n",
            "Test Accuracy: 0.84960 \n"
          ]
        },
        {
          "output_type": "execute_result",
          "data": {
            "text/plain": [
              "0.8496000170707703"
            ]
          },
          "metadata": {},
          "execution_count": 21
        }
      ]
    },
    {
      "cell_type": "code",
      "source": [
        "from keras.utils import plot_model\n",
        "plot_model(network, to_file='model.png')\n",
        "import matplotlib.pyplot as plt\n",
        "history =network.fit(train_images, train_labels, validation_split=0.33,epochs=5, batch_size=512)\n",
        "history_dict = history.history\n",
        "print(history_dict.keys())\n",
        "plt.plot(history.history['accuracy'])\n",
        "plt.plot(history.history['val_accuracy'])\n",
        "plt.title('Model accuracy')\n",
        "plt.ylabel('Accuracy')\n",
        "plt.xlabel('Epoch')\n",
        "plt.legend(['Train', 'Test'], loc='upper left')\n",
        "plt.show()\n",
        "\n",
        "\n",
        "# Plot training & validation loss values\n",
        "plt.plot(history.history['loss'])\n",
        "plt.plot(history.history['val_loss'])\n",
        "plt.title('Model loss')\n",
        "plt.ylabel('Loss')\n",
        "plt.xlabel('Epoch')\n",
        "plt.legend(['Train', 'Test'], loc='upper left')\n",
        "plt.show()\n"
      ],
      "metadata": {
        "colab": {
          "base_uri": "https://localhost:8080/",
          "height": 1000
        },
        "id": "3vpftWmpo195",
        "outputId": "912cddbf-a05c-4ba5-c718-d4c0ac24bfda"
      },
      "execution_count": 22,
      "outputs": [
        {
          "output_type": "stream",
          "name": "stdout",
          "text": [
            "Epoch 1/5\n",
            "79/79 [==============================] - 1s 11ms/step - loss: 0.6677 - accuracy: 0.8429 - val_loss: 0.6510 - val_accuracy: 0.8456\n",
            "Epoch 2/5\n",
            "79/79 [==============================] - 1s 9ms/step - loss: 0.6652 - accuracy: 0.8434 - val_loss: 0.6487 - val_accuracy: 0.8460\n",
            "Epoch 3/5\n",
            "79/79 [==============================] - 1s 9ms/step - loss: 0.6627 - accuracy: 0.8442 - val_loss: 0.6463 - val_accuracy: 0.8465\n",
            "Epoch 4/5\n",
            "79/79 [==============================] - 1s 11ms/step - loss: 0.6602 - accuracy: 0.8451 - val_loss: 0.6440 - val_accuracy: 0.8470\n",
            "Epoch 5/5\n",
            "79/79 [==============================] - 1s 14ms/step - loss: 0.6578 - accuracy: 0.8458 - val_loss: 0.6417 - val_accuracy: 0.8475\n",
            "dict_keys(['loss', 'accuracy', 'val_loss', 'val_accuracy'])\n"
          ]
        },
        {
          "output_type": "display_data",
          "data": {
            "text/plain": [
              "<Figure size 640x480 with 1 Axes>"
            ],
            "image/png": "[encoded data removed]"
          },
          "metadata": {}
        },
        {
          "output_type": "display_data",
          "data": {
            "text/plain": [
              "<Figure size 640x480 with 1 Axes>"
            ],
            "image/png": "[encoded data removed]"
          },
          "metadata": {}
        }
      ]
    }
  ]
}